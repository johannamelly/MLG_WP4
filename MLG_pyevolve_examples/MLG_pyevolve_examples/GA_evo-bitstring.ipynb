{
 "cells": [
  {
   "cell_type": "code",
   "execution_count": 2,
   "metadata": {},
   "outputs": [
    {
     "name": "stderr",
     "output_type": "stream",
     "text": [
      "/Users/aperezur/miniconda3/envs/python27/lib/python2.7/site-packages/matplotlib/font_manager.py:281: UserWarning: Matplotlib is building the font cache using fc-list. This may take a moment.\n",
      "  'Matplotlib is building the font cache using fc-list. '\n"
     ]
    }
   ],
   "source": [
    "from pyevolve import G1DBinaryString\n",
    "from pyevolve import GSimpleGA\n",
    "from pyevolve import Selectors\n",
    "from pyevolve import DBAdapters\n",
    "\n",
    "%matplotlib inline"
   ]
  },
  {
   "cell_type": "code",
   "execution_count": 3,
   "metadata": {},
   "outputs": [],
   "source": [
    "#fitness function\n",
    "    \n",
    "def fitness(chromosome):\n",
    "    score = 0.0\n",
    "    # iterate over the chromosome\n",
    "    for value in chromosome:\n",
    "        if value==1:\n",
    "            score += 1\n",
    "    return score"
   ]
  },
  {
   "cell_type": "code",
   "execution_count": 4,
   "metadata": {
    "scrolled": true
   },
   "outputs": [
    {
     "name": "stdout",
     "output_type": "stream",
     "text": [
      "Gen. 0 (0.00%): Max/Min/Avg Fitness(Raw) [11.81(14.00)/7.08(4.00)/9.84(9.84)]\n",
      "Gen. 10 (10.00%): Max/Min/Avg Fitness(Raw) [14.18(16.00)/9.66(8.00)/11.82(11.82)]\n",
      "Gen. 20 (20.00%): Max/Min/Avg Fitness(Raw) [16.40(18.00)/10.72(9.00)/13.67(13.67)]\n",
      "Gen. 30 (30.00%): Max/Min/Avg Fitness(Raw) [17.57(20.00)/11.01(8.00)/14.64(14.64)]\n",
      "Gen. 40 (40.00%): Max/Min/Avg Fitness(Raw) [18.11(20.00)/12.58(11.00)/15.09(15.09)]\n",
      "Gen. 50 (50.00%): Max/Min/Avg Fitness(Raw) [18.42(20.00)/12.48(11.00)/15.35(15.35)]\n",
      "Gen. 60 (60.00%): Max/Min/Avg Fitness(Raw) [18.76(20.00)/13.03(12.00)/15.63(15.63)]\n",
      "Gen. 70 (70.00%): Max/Min/Avg Fitness(Raw) [18.91(20.00)/12.22(11.00)/15.76(15.76)]\n",
      "Gen. 80 (80.00%): Max/Min/Avg Fitness(Raw) [19.34(20.00)/13.53(13.00)/16.12(16.12)]\n",
      "Gen. 90 (90.00%): Max/Min/Avg Fitness(Raw) [19.60(20.00)/12.48(12.00)/16.33(16.33)]\n",
      "Gen. 100 (100.00%): Max/Min/Avg Fitness(Raw) [19.75(20.00)/12.31(12.00)/16.46(16.46)]\n",
      "Total time elapsed: 0.815 seconds.\n",
      "- GenomeBase\n",
      "\tScore:\t\t\t 20.000000\n",
      "\tFitness:\t\t 19.752000\n",
      "\n",
      "\tParams:\t\t {}\n",
      "\n",
      "\tSlot [Evaluator] (Count: 1)\n",
      "\t\tName: fitness - Weight: 0.50\n",
      "\tSlot [Initializator] (Count: 1)\n",
      "\t\tName: G1DBinaryStringInitializator - Weight: 0.50\n",
      "\t\tDoc:  1D Binary String initializator \n",
      "\tSlot [Mutator] (Count: 1)\n",
      "\t\tName: G1DBinaryStringMutatorFlip - Weight: 0.50\n",
      "\t\tDoc:  The classical flip mutator for binary strings \n",
      "\tSlot [Crossover] (Count: 1)\n",
      "\t\tName: G1DBinaryStringXSinglePoint - Weight: 0.50\n",
      "\t\tDoc:  The crossover of 1D Binary String, Single Point\n",
      "\n",
      "   .. warning:: You can't use this crossover method for binary strings with length of 1.\n",
      "\n",
      "   \n",
      "\n",
      "- G1DBinaryString\n",
      "\tString length:\t 20\n",
      "\tString:\t\t 11111111111111111111\n",
      "\n",
      "\n"
     ]
    }
   ],
   "source": [
    "# Chromosome representation\n",
    "\n",
    "# genome = bitstring\n",
    "genome = G1DBinaryString.G1DBinaryString(20)\n",
    "\n",
    "# how to compute the fitness\n",
    "genome.evaluator.set(fitness)\n",
    "\n",
    "# GA initialisation\n",
    "ga = GSimpleGA.GSimpleGA(genome)\n",
    "ga.setPopulationSize(100)\n",
    "ga.setMutationRate(0.01)\n",
    "ga.setCrossoverRate(0.9)\n",
    "ga.selector.set(Selectors.GRouletteWheel)\n",
    "ga.setElitism(True)\n",
    "\n",
    "# Record evolution results in a database\n",
    "sqlite_adapter = DBAdapters.DBSQLite(identify=\"log_bit-string\")\n",
    "ga.setDBAdapter(sqlite_adapter)\n",
    "\n",
    "# Number of generations\n",
    "ga.setGenerations(100)\n",
    "\n",
    "# run the GA and print out stats every freq_stats generations\n",
    "ga.evolve(freq_stats=10)\n",
    "\n",
    "# Final best solution\n",
    "print(ga.bestIndividual())"
   ]
  },
  {
   "cell_type": "code",
   "execution_count": 5,
   "metadata": {
    "scrolled": true
   },
   "outputs": [
    {
     "name": "stderr",
     "output_type": "stream",
     "text": [
      "ERROR:root:File `u'../../mlg-bachelor/bin/pyevolve_graph.py'` not found.\n"
     ]
    }
   ],
   "source": [
    "# Generate a graph showing the evolutionary results: fitness vs generations\n",
    "%run ../../mlg-bachelor/bin/pyevolve_graph.py -i log_bit-string -2"
   ]
  },
  {
   "cell_type": "code",
   "execution_count": 6,
   "metadata": {},
   "outputs": [
    {
     "data": {
      "text/plain": [
       "u'/Users/aperezur/PythonProjects/MLG_pyevolve_examples'"
      ]
     },
     "execution_count": 6,
     "metadata": {},
     "output_type": "execute_result"
    }
   ],
   "source": [
    "%pwd"
   ]
  },
  {
   "cell_type": "code",
   "execution_count": null,
   "metadata": {},
   "outputs": [],
   "source": [
    "# Generate a heatmap of population fitness score distribution over generations\n",
    "%run ../../mlg-bachelor/bin/pyevolve_graph.py -i log_bit-string -9"
   ]
  }
 ],
 "metadata": {
  "kernelspec": {
   "display_name": "python27",
   "language": "python",
   "name": "python27"
  },
  "language_info": {
   "codemirror_mode": {
    "name": "ipython",
    "version": 2
   },
   "file_extension": ".py",
   "mimetype": "text/x-python",
   "name": "python",
   "nbconvert_exporter": "python",
   "pygments_lexer": "ipython2",
   "version": "2.7.16"
  }
 },
 "nbformat": 4,
 "nbformat_minor": 1
}
